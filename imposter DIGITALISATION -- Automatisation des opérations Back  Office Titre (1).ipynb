{
 "cells": [
  {
   "cell_type": "markdown",
   "id": "79e50119",
   "metadata": {},
   "source": [
    "# LIBRARIES"
   ]
  },
  {
   "cell_type": "code",
   "execution_count": 62,
   "id": "4e502989",
   "metadata": {},
   "outputs": [],
   "source": [
    "import cv2\n",
    "import PIL\n",
    "from PIL import Image\n",
    "import pytesseract\n",
    "import numpy as np\n",
    "import os"
   ]
  },
  {
   "cell_type": "code",
   "execution_count": 63,
   "id": "2890dd20",
   "metadata": {},
   "outputs": [],
   "source": [
    "#~~open up img using PILLOW\n",
    "#im_file='OCR TEST ATW .jpg'\n",
    "im_file='OCR TEST ATW .jpg'\n",
    "#pytesseract.pytesseract.tesseract_cmd = r'C:\\Program Files\\Tesseract-OCR\\tesseract.exe'"
   ]
  },
  {
   "cell_type": "markdown",
   "id": "94ec761e",
   "metadata": {},
   "source": [
    "# Config1: All Image content"
   ]
  },
  {
   "cell_type": "code",
   "execution_count": 64,
   "id": "ddd1001e",
   "metadata": {},
   "outputs": [
    {
     "name": "stdout",
     "output_type": "stream",
     "text": [
      "<PIL.JpegImagePlugin.JpegImageFile image mode=RGB size=1275x1650 at 0x1496C164130>\n"
     ]
    }
   ],
   "source": [
    "import cv2\n",
    "import numpy as np\n",
    "from PIL import Image\n",
    "\n",
    "# Load the image\n",
    "im = Image.open(im_file)\n",
    "print(im)\n",
    "\n",
    "# Convert the image to binary (thresholding)\n",
    "im = im.convert(\"L\")  # Convert to grayscale\n",
    "im = np.array(im)  # Convert to NumPy array\n",
    "\n",
    "# Thresholding\n",
    "_, thresholded = cv2.threshold(im, 128, 255, cv2.THRESH_BINARY)\n",
    "\n",
    "# Crop the region of interest (ROI)\n",
    "x = 300\n",
    "y = 190\n",
    "h = 921\n",
    "w = 1190\n",
    "cropped = thresholded[x:w, y:h]\n",
    "\n",
    "# Convert the cropped ROI back to PIL Image\n",
    "im_cropped = Image.fromarray(cropped)\n",
    "im_cropped.show()\n",
    "contours, _ = cv2.findContours(cropped, cv2.RETR_EXTERNAL, cv2.CHAIN_APPROX_SIMPLE)"
   ]
  },
  {
   "cell_type": "markdown",
   "id": "6ff852ae",
   "metadata": {},
   "source": [
    "# Config2: Header"
   ]
  },
  {
   "cell_type": "code",
   "execution_count": 65,
   "id": "f5e8df35",
   "metadata": {},
   "outputs": [
    {
     "name": "stdout",
     "output_type": "stream",
     "text": [
      "<PIL.JpegImagePlugin.JpegImageFile image mode=RGB size=1275x1650 at 0x1496A0C69E0>\n"
     ]
    }
   ],
   "source": [
    "import cv2\n",
    "import numpy as np\n",
    "from PIL import Image\n",
    "\n",
    "# Load the image\n",
    "im = Image.open(im_file)\n",
    "print(im)\n",
    "\n",
    "# Convert the image to binary (thresholding)\n",
    "im = im.convert(\"L\")  # Convert to grayscale\n",
    "im = np.array(im)  # Convert to NumPy array\n",
    "\n",
    "# Thresholding\n",
    "_, thresholded = cv2.threshold(im, 128, 255, cv2.THRESH_BINARY)\n",
    "\n",
    "# Crop the region of interest (ROI)\n",
    "x = 345\n",
    "y = 190\n",
    "h = 921\n",
    "w = 395\n",
    "cropped = thresholded[x:w, y:h]\n",
    "\n",
    "# Convert the cropped ROI back to PIL Image\n",
    "im_cropped = Image.fromarray(cropped)\n",
    "im_cropped.show()\n",
    "contours, _ = cv2.findContours(cropped, cv2.RETR_EXTERNAL, cv2.CHAIN_APPROX_SIMPLE)"
   ]
  },
  {
   "cell_type": "code",
   "execution_count": null,
   "id": "6f90cd22",
   "metadata": {},
   "outputs": [],
   "source": []
  },
  {
   "cell_type": "code",
   "execution_count": 66,
   "id": "306edb78",
   "metadata": {},
   "outputs": [
    {
     "data": {
      "text/plain": [
       "['AGENCE : CODE AGENCE',\n",
       " \"MME/MR: LE DIRECTEUR DU - NOM DE L'AGENCE OU CENTRE D'AFFAIRE\"]"
      ]
     },
     "execution_count": 66,
     "metadata": {},
     "output_type": "execute_result"
    }
   ],
   "source": [
    "import re\n",
    "#pattern matching and manipulation of strings.\n",
    "\n",
    "ocr2text = list()\n",
    "min_area_threshold = 100 \n",
    "for contour in contours:\n",
    "    # Filter out small contours based on area threshold (adjust as needed)\n",
    "    if cv2.contourArea(contour) > min_area_threshold:\n",
    "        # Extract the bounding box coordinates of the contour\n",
    "        x, y, w, h = cv2.boundingRect(contour)\n",
    "        \n",
    "        # Extract the ROI from the grayscale image\n",
    "        roi = cropped[y:y+h, x:x+w]\n",
    "\n",
    "        # Perform OCR on the ROI using PyTesseract\n",
    "        text = pytesseract.image_to_string(roi)\n",
    "        ocr2text.append(text.replace('UTORISATION','AUTORISATION')\\\n",
    "                        .replace('TORISATION','AUTORISATION')\\\n",
    "                        .replace('AGENCE ;','AGENCE ')\\\n",
    "                        .replace('Site YEM ; Poste ','Poste : ')\\\n",
    "                        .replace('poate Oe ','Date de Paiement |')\\\n",
    "                        .replace('Désignation de la Valeur ','Désignation de la Valeur |')\\\n",
    "                        .replace('Nombre De','Nombre De Coupons')\\\n",
    "                        #.replace(re.search(r\"\\b\\d{10}\\b\", text).group(0),re.sub(r\"(\\d{2})(\\d{2})(\\d{4})\", r\"\\1/\\2/\\3\", re.search(r\"\\b\\d{10}\\b\", text).group(0)))\\\n",
    "                        .replace('AEXECUTER Ea sis','A EXECUTER | A REJETER').replace('MME! MR','MME/MR')\\\n",
    "                        .replace('Date: Date :','Date: | Date :').replace('\\x0c','').replace('Compte Référence N° ','Compte Référence N° :')\\\n",
    "                        .replace('Nous vous informons que votre relation procédera au paiement des dividendes','')\\\n",
    "                        .replace('A cet effet, nous vous demandons de nous marquer votre accord pour débiter le compte de','')\\\n",
    "                      .replace('votre relation et de bloquer la provision nécessaire le cas échéant.','')\\\n",
    "                      .replace('Cordialement.','')\\\n",
    "                        .replace('MME; ','MME/')\\\n",
    "                        .split(\"\\n\"))\n",
    "#ocr2text = list(filter(None, ocr2text[0]))\n",
    "entete = list(filter(None, ocr2text[0]))\n",
    "entete"
   ]
  },
  {
   "cell_type": "code",
   "execution_count": 67,
   "id": "bdf3425b",
   "metadata": {},
   "outputs": [
    {
     "data": {
      "text/plain": [
       "{'AGENCE ': 'CODE AGENCE',\n",
       " 'MME/MR': \"LE DIRECTEUR DU - NOM DE L'AGENCE OU CENTRE D'AFFAIRE\"}"
      ]
     },
     "execution_count": 67,
     "metadata": {},
     "output_type": "execute_result"
    }
   ],
   "source": [
    "entete_dict={}\n",
    "for l2 in [el.split(':') for el in entete if len(str(el).split(':'))>1]:\n",
    "    entete_dict[l2[0]] = l2[1:][0].strip(' ')\n",
    "entete_dict"
   ]
  },
  {
   "cell_type": "markdown",
   "id": "f6155670",
   "metadata": {},
   "source": [
    "# Config3: STE name"
   ]
  },
  {
   "cell_type": "code",
   "execution_count": 68,
   "id": "ce3a3873",
   "metadata": {},
   "outputs": [
    {
     "name": "stdout",
     "output_type": "stream",
     "text": [
      "<PIL.JpegImagePlugin.JpegImageFile image mode=RGB size=1275x1650 at 0x14969B705E0>\n"
     ]
    }
   ],
   "source": [
    "import cv2\n",
    "import numpy as np\n",
    "from PIL import Image\n",
    "\n",
    "# Load the image\n",
    "im = Image.open(im_file)\n",
    "print(im)\n",
    "\n",
    "# Convert the image to binary (thresholding)\n",
    "im = im.convert(\"L\")  # Convert to grayscale\n",
    "im = np.array(im)  # Convert to NumPy array\n",
    "\n",
    "# Thresholding\n",
    "_, thresholded = cv2.threshold(im, 128, 255, cv2.THRESH_BINARY)\n",
    "\n",
    "# Crop the region of interest (ROI)\n",
    "x = 600\n",
    "y = 190\n",
    "h = 921\n",
    "w = 730\n",
    "cropped = thresholded[x:w, y:h]\n",
    "\n",
    "# Convert the cropped ROI back to PIL Image\n",
    "im_cropped = Image.fromarray(cropped)\n",
    "im_cropped.show()\n",
    "contours, _ = cv2.findContours(cropped, cv2.RETR_EXTERNAL, cv2.CHAIN_APPROX_SIMPLE)"
   ]
  },
  {
   "cell_type": "code",
   "execution_count": 69,
   "id": "43e4e386",
   "metadata": {},
   "outputs": [
    {
     "data": {
      "text/plain": [
       "['Relation :',\n",
       " 'Compte Référence N°',\n",
       " 'STE -X-',\n",
       " '1234',\n",
       " '9012',\n",
       " 'MA 3000 4002']"
      ]
     },
     "execution_count": 69,
     "metadata": {},
     "output_type": "execute_result"
    }
   ],
   "source": [
    "import re\n",
    "\n",
    "ocr2text = list()\n",
    "min_area_threshold = 100 \n",
    "for contour in contours:\n",
    "    # Filter out small contours based on area threshold (adjust as needed)\n",
    "    if cv2.contourArea(contour) > min_area_threshold:\n",
    "        # Extract the bounding box coordinates of the contour\n",
    "        x, y, w, h = cv2.boundingRect(contour)\n",
    "        \n",
    "        # Extract the ROI from the grayscale image\n",
    "        roi = cropped[y:y+h, x:x+w]\n",
    "\n",
    "        # Perform OCR on the ROI using PyTesseract\n",
    "        text = pytesseract.image_to_string(roi)\n",
    "        ocr2text.append(text.replace('UTORISATION','AUTORISATION')\\\n",
    "                        .replace('TORISATION','AUTORISATION')\\\n",
    "                        .replace('AGENCE ;','AGENCE ')\\\n",
    "                        .replace('Site YEM ; Poste ','Poste : ')\\\n",
    "                        .replace('poate Oe ','Date de Paiement |')\\\n",
    "                        .replace('Désignation de la Valeur ','Désignation de la Valeur |')\\\n",
    "                        .replace('Nombre De','Nombre De Coupons')\\\n",
    "                        #.replace(re.search(r\"\\b\\d{10}\\b\", text).group(0),re.sub(r\"(\\d{2})(\\d{2})(\\d{4})\", r\"\\1/\\2/\\3\", re.search(r\"\\b\\d{10}\\b\", text).group(0)))\\\n",
    "                        .replace('AEXECUTER Ea sis','A EXECUTER | A REJETER').replace('MME! MR','MME/MR')\\\n",
    "                        .replace('Date: Date :','Date: | Date :').replace('\\x0c','').replace('Compte Référence N° ','Compte Référence N° :')\\\n",
    "                        .replace('Nous vous informons que votre relation procédera au paiement des dividendes','')\\\n",
    "                        .replace('A cet effet, nous vous demandons de nous marquer votre accord pour débiter le compte de','')\\\n",
    "                      .replace('votre relation et de bloquer la provision nécessaire le cas échéant.','')\\\n",
    "                      .replace('Cordialement.','')\\\n",
    "                        .replace('MME; ','MME/')\\\n",
    "                        .split(\"\\n\"))\n",
    "#ocr2text = list(filter(None, ocr2text[0]))\n",
    "ref = list(filter(None, ocr2text[0]))\n",
    "ref"
   ]
  },
  {
   "cell_type": "code",
   "execution_count": 70,
   "id": "40d6aba2",
   "metadata": {},
   "outputs": [
    {
     "data": {
      "text/plain": [
       "{'Relation': 'STE -X-', 'Compte Référence N°': '1234|9012|MA 3000 4002'}"
      ]
     },
     "execution_count": 70,
     "metadata": {},
     "output_type": "execute_result"
    }
   ],
   "source": [
    "ref_dict={}\n",
    "ref_dict[ref[0].replace(' :','')]=ref[2]\n",
    "ref_dict[ref[1]]=ref[3]+'|'+ref[4]+'|'+ref[5]\n",
    "ref_dict"
   ]
  },
  {
   "cell_type": "markdown",
   "id": "b11dee36",
   "metadata": {},
   "source": [
    "# Config 4: Table"
   ]
  },
  {
   "cell_type": "code",
   "execution_count": 71,
   "id": "3f4fdede",
   "metadata": {},
   "outputs": [
    {
     "name": "stdout",
     "output_type": "stream",
     "text": [
      "<PIL.JpegImagePlugin.JpegImageFile image mode=RGB size=1275x1650 at 0x1496C166C20>\n"
     ]
    }
   ],
   "source": [
    "import cv2\n",
    "import numpy as np\n",
    "from PIL import Image\n",
    "\n",
    "# Load the image\n",
    "im = Image.open(im_file)\n",
    "print(im)\n",
    "\n",
    "# Convert the image to binary (thresholding)\n",
    "im = im.convert(\"L\")  # Convert to grayscale\n",
    "im = np.array(im)  # Convert to NumPy array\n",
    "\n",
    "# Thresholding\n",
    "_, thresholded = cv2.threshold(im, 128, 255, cv2.THRESH_BINARY)\n",
    "\n",
    "# Crop the region of interest (ROI)\n",
    "x = 755\n",
    "y = 190\n",
    "h = 921\n",
    "w = 930\n",
    "cropped = thresholded[x:w, y:h]\n",
    "\n",
    "# Convert the cropped ROI back to PIL Image\n",
    "im_cropped = Image.fromarray(cropped)\n",
    "im_cropped.show()\n",
    "contours, _ = cv2.findContours(cropped, cv2.RETR_EXTERNAL, cv2.CHAIN_APPROX_SIMPLE)"
   ]
  },
  {
   "cell_type": "code",
   "execution_count": 72,
   "id": "696ab2e8",
   "metadata": {},
   "outputs": [
    {
     "data": {
      "text/plain": [
       "['Date de paiement|Désignation de la Valeur|Nombre de coupons|UNITAIRE|Montant en MAD',\n",
       " '14/09/2021 | Dividendes -X- Ex 2020 |(Confréres) | 10 000 300 3.000000,00',\n",
       " '15/09/2021 | Dividendes -X- Ex 2020 |(ATW) |990 600 594 000,00',\n",
       " 'MONTANT TOTAL A DEBITER']"
      ]
     },
     "execution_count": 72,
     "metadata": {},
     "output_type": "execute_result"
    }
   ],
   "source": [
    "import re\n",
    "\n",
    "ocr2text = list()\n",
    "min_area_threshold = 100 \n",
    "for contour in contours:\n",
    "    # Filter out small contours based on area threshold (adjust as needed)\n",
    "    if cv2.contourArea(contour) > min_area_threshold:\n",
    "        # Extract the bounding box coordinates of the contour\n",
    "        x, y, w, h = cv2.boundingRect(contour)\n",
    "        \n",
    "        # Extract the ROI from the grayscale image\n",
    "        roi = cropped[y:y+h, x:x+w]\n",
    "\n",
    "        # Perform OCR on the ROI using PyTesseract\n",
    "        text = pytesseract.image_to_string(roi)\n",
    "        ocr2text.append(text.replace('UTORISATION','AUTORISATION')\\\n",
    "                        .replace('TORISATION','AUTORISATION')\\\n",
    "                        .replace('AGENCE ;','AGENCE ')\\\n",
    "                        .replace('Site YEM ; Poste ','Poste : ')\\\n",
    "                        .replace('poate Oe ','Date de Paiement |')\\\n",
    "                        .replace('Désignation de la Valeur ','Désignation de la Valeur |')\\\n",
    "                        .replace('Nombre De','Nombre De Coupons')\\\n",
    "                        #.replace(re.search(r\"\\b\\d{10}\\b\", text).group(0),re.sub(r\"(\\d{2})(\\d{2})(\\d{4})\", r\"\\1/\\2/\\3\", re.search(r\"\\b\\d{10}\\b\", text).group(0)))\\\n",
    "                        .replace('AEXECUTER Ea sis','A EXECUTER | A REJETER').replace('MME! MR','MME/MR')\\\n",
    "                        .replace('Date: Date :','Date: | Date :').replace('\\x0c','').replace('Compte Référence N° ','Compte Référence N° :')\\\n",
    "                        .replace('Nous vous informons que votre relation procédera au paiement des dividendes','')\\\n",
    "                        .replace('A cet effet, nous vous demandons de nous marquer votre accord pour débiter le compte de','')\\\n",
    "                      .replace('votre relation et de bloquer la provision nécessaire le cas échéant.','')\\\n",
    "                      .replace('Ex 2020 (ATW) ','Ex 2020 (ATW) |')\\\n",
    "                        .replace('Ex 2021 (ATW) ','Ex 2021 (ATW) |')\\\n",
    "                        .replace('Ex 2022 (ATW) ','Ex 2022 (ATW) |')\\\n",
    "                        .replace('Ex 2023 (ATW) ','Ex 2023 (ATW) |')\\\n",
    "                        .replace('Ex 2024 (ATW) ','Ex 2024 (ATW) |')\\\n",
    "                        .replace('Ex 2025 (ATW) ','Ex 2025 (ATW) |')\\\n",
    "                        .replace('Ex 2026 (ATW) ','Ex 2026 (ATW) |')\\\n",
    "                        .replace('Ex 2019 (ATW) ','Ex 2019 (ATW) |')\\\n",
    "                        .replace('Ex 2018 (ATW) ','Ex 2018 (ATW) |')\\\n",
    "                        .replace('Ex 2017 (ATW) ','Ex 2017 (ATW) |')\\\n",
    "                        .replace('Ex 2016 (ATW) ','Ex 2016 (ATW) |')\\\n",
    "                        .replace('Ex 2015 (ATW) ','Ex 2015 (ATW) |')\\\n",
    "                      .replace('Ex 2020 ','Ex 2020 |')\\\n",
    "                        .replace('Ex 2021 ','Ex 2021 |')\\\n",
    "                        .replace('Ex 2022 ','Ex 2022 |')\\\n",
    "                        .replace('Ex 2023 ','Ex 2023 |')\\\n",
    "                        .replace('Ex 2024 ','Ex 2024 |')\\\n",
    "                        .replace('Ex 2025 ','Ex 2025 |')\\\n",
    "                        .replace('Ex 2026 ','Ex 2026 |')\\\n",
    "                        .replace('Ex 2019 ','Ex 2019 |')\\\n",
    "                        .replace('Ex 2018 ','Ex 2018 |')\\\n",
    "                        .replace('Ex 2017 ','Ex 2017 |')\\\n",
    "                        .replace('Ex 2016 ','Ex 2016 |')\\\n",
    "                        .replace('Ex 2015 ','Ex 2015 |')\\\n",
    "                        .replace('Ex 2014 ','Ex 2014 |')\\\n",
    "                        .replace('Ex 2013 ','Ex 2013 |')\\\n",
    "                        .replace('Ex 2012 ','Ex 2012 |')\\\n",
    "                        .replace('Ex 2011 ','Ex 2011 |')\\\n",
    "                        .replace('Ex 2010 ','Ex 2010 |')\\\n",
    "                        .replace('Ex 2009 ','Ex 2009 |')\\\n",
    "                        .replace('Ex 2008 ','Ex 2008 |')\\\n",
    "                        .replace('Ex 2007 ','Ex 2007 |')\\\n",
    "                        .replace('Ex 2006 ','Ex 2006 |')\\\n",
    "                        .replace('Ex 2005 ','Ex 2005 |')\\\n",
    "                        .replace('Ex 2004 ','Ex 2004 |')\\\n",
    "                        .replace('Ex 2003 ','Ex 2003 |')\\\n",
    "                        .replace('Ex 2002 ','Ex 2002 |')\\\n",
    "                        .replace('(BMCI)','(BMCI) |')\\\n",
    "                        .replace('(BMCE)','(BMCE) |')\\\n",
    "                        .replace('(SGMB)','(SGMB) |')\\\n",
    "                        .replace('(CIH)','(CIH) |')\\\n",
    "                        .replace('(CITI)','(CITI) |')\\\n",
    "                        .replace('(BP)','(BP) |')\\\n",
    "                        .replace('(CDM)','(CDM) |')\\\n",
    "                        .replace('poate De Désignation de la Valeur |seoupens’ | UNITAIRE | Montant en MAD', 'Date de paiement|Désignation de la Valeur|Nombre de coupons|UNITAIRE|Montant en MAD')\n",
    "                        .split(\"\\n\"))\n",
    "#ocr2text = list(filter(None, ocr2text[0]))\n",
    "table = list(filter(None, ocr2text[-1]))\n",
    "table"
   ]
  },
  {
   "cell_type": "code",
   "execution_count": 73,
   "id": "8179f615",
   "metadata": {},
   "outputs": [
    {
     "data": {
      "text/plain": [
       "[{'Date de paiement': '14/09/2021',\n",
       "  'Désignation de la Valeur': 'Dividendes -X- Ex 2020 |(Confréres)',\n",
       "  'Nombre de coupons': '10 000',\n",
       "  'UNITAIRE': '300',\n",
       "  'Montant en MAD': '3.000 000,00'},\n",
       " {'Date de paiement': '15/09/2021',\n",
       "  'Désignation de la Valeur': 'Dividendes -X- Ex 2020  (ATW)',\n",
       "  'Nombre de coupons': '990',\n",
       "  'UNITAIRE': '600',\n",
       "  'Montant en MAD': '594000,00'}]"
      ]
     },
     "execution_count": 73,
     "metadata": {},
     "output_type": "execute_result"
    }
   ],
   "source": [
    "import re\n",
    "\n",
    "data = ['Date de paiement|Désignation de la Valeur|Nombre de coupons|UNITAIRE|Montant en MAD',\n",
    " '14/09/2021 | Dividendes -X- Ex 2020 |(Confréres) | 10 000 300 3.000 000,00',\n",
    " '15/09/2021 | Dividendes -X- Ex 2020 |(ATW) |990 600 594 000,00',\n",
    " 'MONTANT TOTAL A DEBITER']\n",
    "\n",
    "def process_string(s):\n",
    "    pattern = r'([\\d/]+)\\s*\\|\\s*(.*?)\\s*\\|\\s*(\\d+\\s*\\d*)\\s*(\\d+)\\s*([\\d.\\s,]+)'\n",
    "    match = re.match(pattern, s)\n",
    "    if match:\n",
    "        return list(match.groups())\n",
    "    else:\n",
    "        return [s]\n",
    "\n",
    "new_data = [process_string(s) for s in data]\n",
    "elements=[]\n",
    "for row in new_data:\n",
    "    for r in range(0,len(row)):\n",
    "        if row[r]=='000,00':\n",
    "            row[r]=row[r-1]+'000,00'\n",
    "            row[r-1] = row[r-2].split(' ')[1]\n",
    "            row[r-2] = row[r-2].split(' ')[0]\n",
    "            row[1] = ' '.join(row[1].split('|'))\n",
    "    elements.append(row)\n",
    "    #print('|'.join(row))\n",
    "montant = elements[-1]\n",
    "elements.pop(-1)\n",
    "table_dicts=[]\n",
    "for idx in range(0, len(elements[1:])):\n",
    "    table_dict={}\n",
    "    for k,v in zip(elements[0][0].split('|'),elements[1:][idx]):\n",
    "        table_dict[k]=v\n",
    "    table_dicts.append(table_dict)\n",
    "table_dicts"
   ]
  },
  {
   "cell_type": "markdown",
   "id": "4b40db16",
   "metadata": {},
   "source": [
    "# Config 5: A Executer field"
   ]
  },
  {
   "cell_type": "code",
   "execution_count": 74,
   "id": "98572650",
   "metadata": {},
   "outputs": [
    {
     "name": "stdout",
     "output_type": "stream",
     "text": [
      "<PIL.JpegImagePlugin.JpegImageFile image mode=RGB size=1275x1650 at 0x1496C166C20>\n"
     ]
    }
   ],
   "source": [
    "import cv2\n",
    "import numpy as np\n",
    "from PIL import Image\n",
    "\n",
    "# Load the image\n",
    "im = Image.open(im_file)\n",
    "print(im)\n",
    "\n",
    "# Convert the image to binary (thresholding)\n",
    "im = im.convert(\"L\")  # Convert to grayscale\n",
    "im = np.array(im)  # Convert to NumPy array\n",
    "\n",
    "# Thresholding\n",
    "_, thresholded = cv2.threshold(im, 128, 255, cv2.THRESH_BINARY)\n",
    "\n",
    "# Crop the region of interest (ROI)\n",
    "x = 970\n",
    "y = 190\n",
    "h = 580\n",
    "w = 1190\n",
    "cropped = thresholded[x:w, y:h]\n",
    "\n",
    "# Convert the cropped ROI back to PIL Image\n",
    "im_cropped = Image.fromarray(cropped)\n",
    "im_cropped.show()\n",
    "contours, _ = cv2.findContours(cropped, cv2.RETR_EXTERNAL, cv2.CHAIN_APPROX_SIMPLE)"
   ]
  },
  {
   "cell_type": "code",
   "execution_count": 75,
   "id": "57d95c18",
   "metadata": {},
   "outputs": [
    {
     "data": {
      "text/plain": [
       "{'Date ': ' 13/07/2023', 'Cachet & Signature ': ''}"
      ]
     },
     "execution_count": 75,
     "metadata": {},
     "output_type": "execute_result"
    }
   ],
   "source": [
    "import re\n",
    "\n",
    "ocr2text = list()\n",
    "min_area_threshold = 100 \n",
    "for contour in contours:\n",
    "    # Filter out small contours based on area threshold (adjust as needed)\n",
    "    if cv2.contourArea(contour) > min_area_threshold:\n",
    "        # Extract the bounding box coordinates of the contour\n",
    "        x, y, w, h = cv2.boundingRect(contour)\n",
    "        \n",
    "        # Extract the ROI from the grayscale image\n",
    "        roi = cropped[y:y+h, x:x+w]\n",
    "\n",
    "        # Perform OCR on the ROI using PyTesseract\n",
    "        text = pytesseract.image_to_string(roi)\n",
    "        ocr2text.append(text.replace('UTORISATION','AUTORISATION')\\\n",
    "                        .replace('TORISATION','AUTORISATION')\\\n",
    "                        .replace('AGENCE ;','AGENCE ')\\\n",
    "                        .replace('Site YEM ; Poste ','Poste : ')\\\n",
    "                        .replace('poate Oe ','Date de Paiement |')\\\n",
    "                        .replace('Désignation de la Valeur ','Désignation de la Valeur |')\\\n",
    "                        .replace('Nombre De','Nombre De Coupons')\\\n",
    "                        #.replace(re.search(r\"\\b\\d{10}\\b\", text).group(0),re.sub(r\"(\\d{2})(\\d{2})(\\d{4})\", r\"\\1/\\2/\\3\", re.search(r\"\\b\\d{10}\\b\", text).group(0)))\\\n",
    "                        .replace('AEXECUTER Ea sis','A EXECUTER | A REJETER').replace('MME! MR','MME/MR')\\\n",
    "                        .replace('Date: Date :','Date: | Date :').replace('\\x0c','').replace('Compte Référence N° ','Compte Référence N° :')\\\n",
    "                        .replace('Nous vous informons que votre relation procédera au paiement des dividendes','')\\\n",
    "                        .replace('A cet effet, nous vous demandons de nous marquer votre accord pour débiter le compte de','')\\\n",
    "                      .replace('votre relation et de bloquer la provision nécessaire le cas échéant.','')\\\n",
    "                      .replace('Cordialement.','')\\\n",
    "                        .replace('MME; ','MME/')\\\n",
    "                        .replace('poate De Désignation de la Valeur |seoupens’ | UNITAIRE | Montant en MAD', 'Date de paiement|Désignation de la Valeur|Nombre de coupons|UNITAIRE|Montant en MAD')\n",
    "                        .split(\"\\n\"))\n",
    "#ocr2text = list(filter(None, ocr2text[0]))\n",
    "executer = list(filter(None, ocr2text[0]))\n",
    "executer_dict=dict()\n",
    "for el in range(0, len(executer)):\n",
    "    try:\n",
    "        if len(executer[el].split(':'))>1:\n",
    "            executer_dict[executer[el].split(':')[0]]=executer[el].split(':')[1]\n",
    "    except IndexError:\n",
    "        executer_dict[executer[el]]=executer[el+1]\n",
    "executer_dict"
   ]
  },
  {
   "cell_type": "markdown",
   "id": "c0a99b6f",
   "metadata": {},
   "source": [
    "# Config 6: A Rejeter field"
   ]
  },
  {
   "cell_type": "code",
   "execution_count": 76,
   "id": "60e010c3",
   "metadata": {},
   "outputs": [
    {
     "name": "stdout",
     "output_type": "stream",
     "text": [
      "<PIL.JpegImagePlugin.JpegImageFile image mode=RGB size=1275x1650 at 0x14968AD40D0>\n"
     ]
    }
   ],
   "source": [
    "import cv2\n",
    "import numpy as np\n",
    "from PIL import Image\n",
    "\n",
    "# Load the image\n",
    "im = Image.open(im_file)\n",
    "print(im)\n",
    "\n",
    "# Convert the image to binary (thresholding)\n",
    "im = im.convert(\"L\")  # Convert to grayscale\n",
    "im = np.array(im)  # Convert to NumPy array\n",
    "\n",
    "# Thresholding\n",
    "_, thresholded = cv2.threshold(im, 128, 255, cv2.THRESH_BINARY)\n",
    "\n",
    "# Crop the region of interest (ROI)\n",
    "x = 970\n",
    "y = 580\n",
    "h = 921\n",
    "w = 1190\n",
    "cropped = thresholded[x:w, y:h]\n",
    "\n",
    "# Convert the cropped ROI back to PIL Image\n",
    "im_cropped = Image.fromarray(cropped)\n",
    "im_cropped.show()\n",
    "contours, _ = cv2.findContours(cropped, cv2.RETR_EXTERNAL, cv2.CHAIN_APPROX_SIMPLE)"
   ]
  },
  {
   "cell_type": "code",
   "execution_count": 77,
   "id": "efc8ae34",
   "metadata": {},
   "outputs": [
    {
     "data": {
      "text/plain": [
       "{'Date ': '', 'Motif de rejet ': '', 'Cachet & Signature ': ''}"
      ]
     },
     "execution_count": 77,
     "metadata": {},
     "output_type": "execute_result"
    }
   ],
   "source": [
    "import re\n",
    "\n",
    "ocr2text = list()\n",
    "min_area_threshold = 100 \n",
    "for contour in contours:\n",
    "    # Filter out small contours based on area threshold (adjust as needed)\n",
    "    if cv2.contourArea(contour) > min_area_threshold:\n",
    "        # Extract the bounding box coordinates of the contour\n",
    "        x, y, w, h = cv2.boundingRect(contour)\n",
    "        \n",
    "        # Extract the ROI from the grayscale image\n",
    "        roi = cropped[y:y+h, x:x+w]\n",
    "\n",
    "        # Perform OCR on the ROI using PyTesseract\n",
    "        text = pytesseract.image_to_string(roi)\n",
    "        ocr2text.append(text.replace('UTORISATION','AUTORISATION')\\\n",
    "                        .replace('TORISATION','AUTORISATION')\\\n",
    "                        .replace('AGENCE ;','AGENCE ')\\\n",
    "                        .replace('Site YEM ; Poste ','Poste : ')\\\n",
    "                        .replace('poate Oe ','Date de Paiement |')\\\n",
    "                        .replace('Désignation de la Valeur ','Désignation de la Valeur |')\\\n",
    "                        .replace('Nombre De','Nombre De Coupons')\\\n",
    "                        #.replace(re.search(r\"\\b\\d{10}\\b\", text).group(0),re.sub(r\"(\\d{2})(\\d{2})(\\d{4})\", r\"\\1/\\2/\\3\", re.search(r\"\\b\\d{10}\\b\", text).group(0)))\\\n",
    "                        .replace('AEXECUTER Ea sis','A EXECUTER | A REJETER').replace('MME! MR','MME/MR')\\\n",
    "                        .replace('Date: Date :','Date: | Date :').replace('\\x0c','').replace('Compte Référence N° ','Compte Référence N° :')\\\n",
    "                        .replace('Nous vous informons que votre relation procédera au paiement des dividendes','')\\\n",
    "                        .replace('A cet effet, nous vous demandons de nous marquer votre accord pour débiter le compte de','')\\\n",
    "                      .replace('votre relation et de bloquer la provision nécessaire le cas échéant.','')\\\n",
    "                      .replace('Cordialement.','')\\\n",
    "                        .replace('MME; ','MME/')\\\n",
    "                        .replace('Motif de rejet ;','Motif de rejet :')\\\n",
    "                        .replace('poate De Désignation de la Valeur |seoupens’ | UNITAIRE | Montant en MAD', 'Date de paiement|Désignation de la Valeur|Nombre de coupons|UNITAIRE|Montant en MAD')\n",
    "                        .split(\"\\n\"))\n",
    "#ocr2text = list(filter(None, ocr2text[0]))\n",
    "rejeter = list(filter(None, ocr2text[0]))\n",
    "rejeter_dict=dict()\n",
    "for el in range(0, len(rejeter)):\n",
    "    try:\n",
    "        if len(rejeter[el].split(':'))>1:\n",
    "            rejeter_dict[rejeter[el].split(':')[0]]=rejeter[el].split(':')[1]\n",
    "    except IndexError:\n",
    "        rejeter_dict[rejeter[el]]=rejeter[el+1]\n",
    "rejeter_dict"
   ]
  },
  {
   "cell_type": "code",
   "execution_count": 78,
   "id": "4599335a",
   "metadata": {},
   "outputs": [
    {
     "name": "stdout",
     "output_type": "stream",
     "text": [
      "{'Date_Execution': ' 13/07/2023', 'Cachet & Signature_Execution': ''}\n",
      "{'Date_Rejet': '', 'Motif de rejet_Rejet': '', 'Cachet & Signature_Rejet': ''}\n"
     ]
    }
   ],
   "source": [
    "def modify_keys(list_of_dicts):\n",
    "    new_list_of_dicts = []\n",
    "    for old_dict in list_of_dicts:\n",
    "        new_dict = {}\n",
    "        for old_key in old_dict.keys():\n",
    "            if old_dict is list_of_dicts[0]:\n",
    "                new_key = old_key.strip() + '_Execution'\n",
    "            elif old_dict is list_of_dicts[1]:\n",
    "                new_key = old_key.strip() + '_Rejet'\n",
    "            new_dict[new_key] = old_dict[old_key]\n",
    "        new_list_of_dicts.append(new_dict)\n",
    "    return new_list_of_dicts\n",
    "\n",
    "old_list = [\n",
    "    executer_dict,\n",
    "    rejeter_dict\n",
    "]\n",
    "\n",
    "new_list = modify_keys(old_list)\n",
    "\n",
    "for dictionary in new_list:\n",
    "    print(dictionary)\n"
   ]
  },
  {
   "cell_type": "code",
   "execution_count": 79,
   "id": "5feafa7d",
   "metadata": {
    "scrolled": true
   },
   "outputs": [
    {
     "data": {
      "text/plain": [
       "[{'AGENCE ': 'CODE AGENCE',\n",
       "  'MME/MR': \"LE DIRECTEUR DU - NOM DE L'AGENCE OU CENTRE D'AFFAIRE\"},\n",
       " {'Relation': 'STE -X-', 'Compte Référence N°': '1234|9012|MA 3000 4002'},\n",
       " [{'Date de paiement': '14/09/2021',\n",
       "   'Désignation de la Valeur': 'Dividendes -X- Ex 2020 |(Confréres)',\n",
       "   'Nombre de coupons': '10 000',\n",
       "   'UNITAIRE': '300',\n",
       "   'Montant en MAD': '3.000 000,00'},\n",
       "  {'Date de paiement': '15/09/2021',\n",
       "   'Désignation de la Valeur': 'Dividendes -X- Ex 2020  (ATW)',\n",
       "   'Nombre de coupons': '990',\n",
       "   'UNITAIRE': '600',\n",
       "   'Montant en MAD': '594000,00'}],\n",
       " {'Date_Execution': ' 13/07/2023', 'Cachet & Signature_Execution': ''},\n",
       " {'Date_Rejet': '',\n",
       "  'Motif de rejet_Rejet': '',\n",
       "  'Cachet & Signature_Rejet': ''}]"
      ]
     },
     "execution_count": 79,
     "metadata": {},
     "output_type": "execute_result"
    }
   ],
   "source": [
    "dicts = []\n",
    "dicts.append(entete_dict)\n",
    "dicts.append(ref_dict)\n",
    "dicts.append(table_dicts)\n",
    "dicts.append(new_list[0])\n",
    "dicts.append(new_list[1])\n",
    "dicts"
   ]
  },
  {
   "cell_type": "code",
   "execution_count": 80,
   "id": "f211774e",
   "metadata": {},
   "outputs": [
    {
     "data": {
      "text/html": [
       "<div>\n",
       "<style scoped>\n",
       "    .dataframe tbody tr th:only-of-type {\n",
       "        vertical-align: middle;\n",
       "    }\n",
       "\n",
       "    .dataframe tbody tr th {\n",
       "        vertical-align: top;\n",
       "    }\n",
       "\n",
       "    .dataframe thead th {\n",
       "        text-align: right;\n",
       "    }\n",
       "</style>\n",
       "<table border=\"1\" class=\"dataframe\">\n",
       "  <thead>\n",
       "    <tr style=\"text-align: right;\">\n",
       "      <th></th>\n",
       "      <th>AGENCE</th>\n",
       "      <th>MME/MR</th>\n",
       "      <th>Relation</th>\n",
       "      <th>Compte Référence N°</th>\n",
       "      <th>Date de paiement</th>\n",
       "      <th>Désignation de la Valeur</th>\n",
       "      <th>Nombre de coupons</th>\n",
       "      <th>UNITAIRE</th>\n",
       "      <th>Montant en MAD</th>\n",
       "      <th>Date_Execution</th>\n",
       "      <th>Cachet &amp; Signature_Execution</th>\n",
       "      <th>Date_Rejet</th>\n",
       "      <th>Motif de rejet_Rejet</th>\n",
       "      <th>Cachet &amp; Signature_Rejet</th>\n",
       "    </tr>\n",
       "  </thead>\n",
       "  <tbody>\n",
       "    <tr>\n",
       "      <th>0</th>\n",
       "      <td>CODE AGENCE</td>\n",
       "      <td>LE DIRECTEUR DU - NOM DE L'AGENCE OU CENTRE D'...</td>\n",
       "      <td>STE -X-</td>\n",
       "      <td>1234|9012|MA 3000 4002</td>\n",
       "      <td>14/09/2021</td>\n",
       "      <td>Dividendes -X- Ex 2020 |(Confréres)</td>\n",
       "      <td>10 000</td>\n",
       "      <td>300</td>\n",
       "      <td>3.000 000,00</td>\n",
       "      <td>13/07/2023</td>\n",
       "      <td>NaN</td>\n",
       "      <td>NaN</td>\n",
       "      <td>NaN</td>\n",
       "      <td>NaN</td>\n",
       "    </tr>\n",
       "    <tr>\n",
       "      <th>1</th>\n",
       "      <td>NaN</td>\n",
       "      <td>NaN</td>\n",
       "      <td>NaN</td>\n",
       "      <td>NaN</td>\n",
       "      <td>15/09/2021</td>\n",
       "      <td>Dividendes -X- Ex 2020  (ATW)</td>\n",
       "      <td>990</td>\n",
       "      <td>600</td>\n",
       "      <td>594000,00</td>\n",
       "      <td>NaN</td>\n",
       "      <td>NaN</td>\n",
       "      <td>NaN</td>\n",
       "      <td>NaN</td>\n",
       "      <td>NaN</td>\n",
       "    </tr>\n",
       "  </tbody>\n",
       "</table>\n",
       "</div>"
      ],
      "text/plain": [
       "       AGENCE                                              MME/MR Relation  \\\n",
       "0  CODE AGENCE  LE DIRECTEUR DU - NOM DE L'AGENCE OU CENTRE D'...  STE -X-   \n",
       "1          NaN                                                NaN      NaN   \n",
       "\n",
       "      Compte Référence N° Date de paiement  \\\n",
       "0  1234|9012|MA 3000 4002       14/09/2021   \n",
       "1                     NaN       15/09/2021   \n",
       "\n",
       "              Désignation de la Valeur Nombre de coupons UNITAIRE  \\\n",
       "0  Dividendes -X- Ex 2020 |(Confréres)            10 000      300   \n",
       "1        Dividendes -X- Ex 2020  (ATW)               990      600   \n",
       "\n",
       "  Montant en MAD Date_Execution  Cachet & Signature_Execution  Date_Rejet  \\\n",
       "0   3.000 000,00     13/07/2023                           NaN         NaN   \n",
       "1      594000,00            NaN                           NaN         NaN   \n",
       "\n",
       "   Motif de rejet_Rejet  Cachet & Signature_Rejet  \n",
       "0                   NaN                       NaN  \n",
       "1                   NaN                       NaN  "
      ]
     },
     "execution_count": 80,
     "metadata": {},
     "output_type": "execute_result"
    }
   ],
   "source": [
    "import pandas as pd\n",
    "import numpy as np\n",
    "\n",
    "# Creating DataFrames for individual dicts and list of dicts\n",
    "df1 = pd.DataFrame([dicts[0]]).replace('', np.nan)\n",
    "df2 = pd.DataFrame([dicts[1]]).replace('', np.nan)\n",
    "df3 = pd.DataFrame(dicts[2]).replace('', np.nan)\n",
    "df4 = pd.DataFrame([dicts[3]]).replace('', np.nan)\n",
    "df5 = pd.DataFrame([dicts[4]]).replace('', np.nan)\n",
    "\n",
    "# Printing DataFrames\n",
    "df = pd.concat([df1,df2,df3,df4,df5],axis=1)\n",
    "df"
   ]
  },
  {
   "cell_type": "code",
   "execution_count": 81,
   "id": "4a739795",
   "metadata": {},
   "outputs": [
    {
     "data": {
      "text/html": [
       "<div>\n",
       "<style scoped>\n",
       "    .dataframe tbody tr th:only-of-type {\n",
       "        vertical-align: middle;\n",
       "    }\n",
       "\n",
       "    .dataframe tbody tr th {\n",
       "        vertical-align: top;\n",
       "    }\n",
       "\n",
       "    .dataframe thead th {\n",
       "        text-align: right;\n",
       "    }\n",
       "</style>\n",
       "<table border=\"1\" class=\"dataframe\">\n",
       "  <thead>\n",
       "    <tr style=\"text-align: right;\">\n",
       "      <th></th>\n",
       "      <th>AGENCE</th>\n",
       "      <th>MME/MR</th>\n",
       "      <th>Relation</th>\n",
       "      <th>Compte Référence N°</th>\n",
       "      <th>Date de paiement</th>\n",
       "      <th>Désignation de la Valeur</th>\n",
       "      <th>Nombre de coupons</th>\n",
       "      <th>UNITAIRE</th>\n",
       "      <th>Montant en MAD</th>\n",
       "      <th>Date_Execution</th>\n",
       "      <th>Cachet &amp; Signature_Execution</th>\n",
       "      <th>Date_Rejet</th>\n",
       "      <th>Motif de rejet_Rejet</th>\n",
       "      <th>Cachet &amp; Signature_Rejet</th>\n",
       "    </tr>\n",
       "  </thead>\n",
       "  <tbody>\n",
       "    <tr>\n",
       "      <th>0</th>\n",
       "      <td>CODE AGENCE</td>\n",
       "      <td>LE DIRECTEUR DU - NOM DE L'AGENCE OU CENTRE D'...</td>\n",
       "      <td>STE -X-</td>\n",
       "      <td>1234|9012|MA 3000 4002</td>\n",
       "      <td>14/09/2021</td>\n",
       "      <td>Dividendes -X- Ex 2020 |(Confréres)</td>\n",
       "      <td>10 000</td>\n",
       "      <td>300</td>\n",
       "      <td>3.000 000,00</td>\n",
       "      <td>13/07/2023</td>\n",
       "      <td>NaN</td>\n",
       "      <td>NaN</td>\n",
       "      <td>NaN</td>\n",
       "      <td>NaN</td>\n",
       "    </tr>\n",
       "    <tr>\n",
       "      <th>1</th>\n",
       "      <td>CODE AGENCE</td>\n",
       "      <td>LE DIRECTEUR DU - NOM DE L'AGENCE OU CENTRE D'...</td>\n",
       "      <td>STE -X-</td>\n",
       "      <td>1234|9012|MA 3000 4002</td>\n",
       "      <td>15/09/2021</td>\n",
       "      <td>Dividendes -X- Ex 2020  (ATW)</td>\n",
       "      <td>990</td>\n",
       "      <td>600</td>\n",
       "      <td>594000,00</td>\n",
       "      <td>13/07/2023</td>\n",
       "      <td>NaN</td>\n",
       "      <td>NaN</td>\n",
       "      <td>NaN</td>\n",
       "      <td>NaN</td>\n",
       "    </tr>\n",
       "  </tbody>\n",
       "</table>\n",
       "</div>"
      ],
      "text/plain": [
       "       AGENCE                                              MME/MR Relation  \\\n",
       "0  CODE AGENCE  LE DIRECTEUR DU - NOM DE L'AGENCE OU CENTRE D'...  STE -X-   \n",
       "1  CODE AGENCE  LE DIRECTEUR DU - NOM DE L'AGENCE OU CENTRE D'...  STE -X-   \n",
       "\n",
       "      Compte Référence N° Date de paiement  \\\n",
       "0  1234|9012|MA 3000 4002       14/09/2021   \n",
       "1  1234|9012|MA 3000 4002       15/09/2021   \n",
       "\n",
       "              Désignation de la Valeur Nombre de coupons UNITAIRE  \\\n",
       "0  Dividendes -X- Ex 2020 |(Confréres)            10 000      300   \n",
       "1        Dividendes -X- Ex 2020  (ATW)               990      600   \n",
       "\n",
       "  Montant en MAD Date_Execution  Cachet & Signature_Execution  Date_Rejet  \\\n",
       "0   3.000 000,00     13/07/2023                           NaN         NaN   \n",
       "1      594000,00     13/07/2023                           NaN         NaN   \n",
       "\n",
       "   Motif de rejet_Rejet  Cachet & Signature_Rejet  \n",
       "0                   NaN                       NaN  \n",
       "1                   NaN                       NaN  "
      ]
     },
     "execution_count": 81,
     "metadata": {},
     "output_type": "execute_result"
    }
   ],
   "source": [
    "df.loc[1, 'AGENCE '] = df.loc[0, 'AGENCE ']\n",
    "df.loc[1, 'MME/MR'] = df.loc[0, 'MME/MR']\n",
    "df.loc[1, 'Relation'] = df.loc[0, 'Relation']\n",
    "df.loc[1, 'Compte Référence N°'] = df.loc[0, 'Compte Référence N°']\n",
    "df.loc[1, 'Date_Execution'] = df.loc[0, 'Date_Execution']\n",
    "df.loc[1, 'Cachet & Signature_Execution'] = df.loc[0, 'Cachet & Signature_Execution']\n",
    "df.loc[1, 'Date_Rejet'] = df.loc[0, 'Date_Rejet']\n",
    "df.loc[1, 'Motif de rejet_Rejet'] = df.loc[0, 'Motif de rejet_Rejet']\n",
    "df.loc[1, 'Cachet & Signature_Rejet'] = df.loc[0, 'Cachet & Signature_Rejet']\n",
    "df"
   ]
  },
  {
   "cell_type": "code",
   "execution_count": 82,
   "id": "2432f1e6",
   "metadata": {},
   "outputs": [
    {
     "name": "stderr",
     "output_type": "stream",
     "text": [
      "C:\\Users\\warda\\AppData\\Local\\Temp\\ipykernel_17612\\4180861141.py:3: FutureWarning: The default value of regex will change from True to False in a future version. In addition, single character regular expressions will *not* be treated as literal strings when regex=True.\n",
      "  df['Montant en MAD'] = df['Montant en MAD'].str.replace('.','').str.replace(' ','').str.replace(',','.').astype('float')\n",
      "C:\\Users\\warda\\AppData\\Local\\Temp\\ipykernel_17612\\4180861141.py:4: UserWarning: Parsing dates in DD/MM/YYYY format when dayfirst=False (the default) was specified. This may lead to inconsistently parsed dates! Specify a format to ensure consistent parsing.\n",
      "  df['Date de paiement'] = pd.to_datetime(df['Date de paiement'])\n"
     ]
    }
   ],
   "source": [
    "df['Nombre de coupons'] = df['Nombre de coupons'].str.replace(' ','').astype('int')\n",
    "df['UNITAIRE'] = df['UNITAIRE'].str.replace(' ','').astype('int')\n",
    "df['Montant en MAD'] = df['Montant en MAD'].str.replace('.','').str.replace(' ','').str.replace(',','.').astype('float')\n",
    "df['Date de paiement'] = pd.to_datetime(df['Date de paiement'])\n",
    "df['Date_Execution'] = pd.to_datetime(df['Date_Execution'])\n",
    "df['Date_Rejet'] = pd.to_datetime(df['Date_Rejet'])"
   ]
  },
  {
   "cell_type": "code",
   "execution_count": null,
   "id": "39202f15",
   "metadata": {},
   "outputs": [],
   "source": []
  },
  {
   "cell_type": "code",
   "execution_count": 61,
   "id": "8fb3b156",
   "metadata": {},
   "outputs": [
    {
     "name": "stderr",
     "output_type": "stream",
     "text": [
      "C:\\Users\\warda\\AppData\\Local\\Temp\\ipykernel_17612\\4243664038.py:3: FutureWarning: The default value of regex will change from True to False in a future version. In addition, single character regular expressions will *not* be treated as literal strings when regex=True.\n",
      "  df['Montant en MAD'] = df['Montant en MAD'].str.replace('.', '').str.replace(' ', '').str.replace(',', '.').astype('float', regex=False)\n"
     ]
    },
    {
     "ename": "TypeError",
     "evalue": "NDFrame.astype() got an unexpected keyword argument 'regex'",
     "output_type": "error",
     "traceback": [
      "\u001b[1;31m---------------------------------------------------------------------------\u001b[0m",
      "\u001b[1;31mTypeError\u001b[0m                                 Traceback (most recent call last)",
      "Cell \u001b[1;32mIn[61], line 3\u001b[0m\n\u001b[0;32m      1\u001b[0m df[\u001b[38;5;124m'\u001b[39m\u001b[38;5;124mNombre de coupons\u001b[39m\u001b[38;5;124m'\u001b[39m] \u001b[38;5;241m=\u001b[39m df[\u001b[38;5;124m'\u001b[39m\u001b[38;5;124mNombre de coupons\u001b[39m\u001b[38;5;124m'\u001b[39m]\u001b[38;5;241m.\u001b[39mstr\u001b[38;5;241m.\u001b[39mreplace(\u001b[38;5;124m'\u001b[39m\u001b[38;5;124m \u001b[39m\u001b[38;5;124m'\u001b[39m,\u001b[38;5;124m'\u001b[39m\u001b[38;5;124m'\u001b[39m)\u001b[38;5;241m.\u001b[39mastype(\u001b[38;5;124m'\u001b[39m\u001b[38;5;124mint\u001b[39m\u001b[38;5;124m'\u001b[39m)\n\u001b[0;32m      2\u001b[0m df[\u001b[38;5;124m'\u001b[39m\u001b[38;5;124mUNITAIRE\u001b[39m\u001b[38;5;124m'\u001b[39m] \u001b[38;5;241m=\u001b[39m df[\u001b[38;5;124m'\u001b[39m\u001b[38;5;124mUNITAIRE\u001b[39m\u001b[38;5;124m'\u001b[39m]\u001b[38;5;241m.\u001b[39mstr\u001b[38;5;241m.\u001b[39mreplace(\u001b[38;5;124m'\u001b[39m\u001b[38;5;124m \u001b[39m\u001b[38;5;124m'\u001b[39m,\u001b[38;5;124m'\u001b[39m\u001b[38;5;124m'\u001b[39m)\u001b[38;5;241m.\u001b[39mastype(\u001b[38;5;124m'\u001b[39m\u001b[38;5;124mint\u001b[39m\u001b[38;5;124m'\u001b[39m)\n\u001b[1;32m----> 3\u001b[0m df[\u001b[38;5;124m'\u001b[39m\u001b[38;5;124mMontant en MAD\u001b[39m\u001b[38;5;124m'\u001b[39m] \u001b[38;5;241m=\u001b[39m \u001b[43mdf\u001b[49m\u001b[43m[\u001b[49m\u001b[38;5;124;43m'\u001b[39;49m\u001b[38;5;124;43mMontant en MAD\u001b[39;49m\u001b[38;5;124;43m'\u001b[39;49m\u001b[43m]\u001b[49m\u001b[38;5;241;43m.\u001b[39;49m\u001b[43mstr\u001b[49m\u001b[38;5;241;43m.\u001b[39;49m\u001b[43mreplace\u001b[49m\u001b[43m(\u001b[49m\u001b[38;5;124;43m'\u001b[39;49m\u001b[38;5;124;43m.\u001b[39;49m\u001b[38;5;124;43m'\u001b[39;49m\u001b[43m,\u001b[49m\u001b[43m \u001b[49m\u001b[38;5;124;43m'\u001b[39;49m\u001b[38;5;124;43m'\u001b[39;49m\u001b[43m)\u001b[49m\u001b[38;5;241;43m.\u001b[39;49m\u001b[43mstr\u001b[49m\u001b[38;5;241;43m.\u001b[39;49m\u001b[43mreplace\u001b[49m\u001b[43m(\u001b[49m\u001b[38;5;124;43m'\u001b[39;49m\u001b[38;5;124;43m \u001b[39;49m\u001b[38;5;124;43m'\u001b[39;49m\u001b[43m,\u001b[49m\u001b[43m \u001b[49m\u001b[38;5;124;43m'\u001b[39;49m\u001b[38;5;124;43m'\u001b[39;49m\u001b[43m)\u001b[49m\u001b[38;5;241;43m.\u001b[39;49m\u001b[43mstr\u001b[49m\u001b[38;5;241;43m.\u001b[39;49m\u001b[43mreplace\u001b[49m\u001b[43m(\u001b[49m\u001b[38;5;124;43m'\u001b[39;49m\u001b[38;5;124;43m,\u001b[39;49m\u001b[38;5;124;43m'\u001b[39;49m\u001b[43m,\u001b[49m\u001b[43m \u001b[49m\u001b[38;5;124;43m'\u001b[39;49m\u001b[38;5;124;43m.\u001b[39;49m\u001b[38;5;124;43m'\u001b[39;49m\u001b[43m)\u001b[49m\u001b[38;5;241;43m.\u001b[39;49m\u001b[43mastype\u001b[49m\u001b[43m(\u001b[49m\u001b[38;5;124;43m'\u001b[39;49m\u001b[38;5;124;43mfloat\u001b[39;49m\u001b[38;5;124;43m'\u001b[39;49m\u001b[43m,\u001b[49m\u001b[43m \u001b[49m\u001b[43mregex\u001b[49m\u001b[38;5;241;43m=\u001b[39;49m\u001b[38;5;28;43;01mFalse\u001b[39;49;00m\u001b[43m)\u001b[49m\n\u001b[0;32m      4\u001b[0m df[\u001b[38;5;124m'\u001b[39m\u001b[38;5;124mDate de paiement\u001b[39m\u001b[38;5;124m'\u001b[39m] \u001b[38;5;241m=\u001b[39m pd\u001b[38;5;241m.\u001b[39mto_datetime(df[\u001b[38;5;124m'\u001b[39m\u001b[38;5;124mDate de paiement\u001b[39m\u001b[38;5;124m'\u001b[39m], \u001b[38;5;28mformat\u001b[39m\u001b[38;5;241m=\u001b[39m\u001b[38;5;124m'\u001b[39m\u001b[38;5;132;01m%d\u001b[39;00m\u001b[38;5;124m/\u001b[39m\u001b[38;5;124m%\u001b[39m\u001b[38;5;124mm/\u001b[39m\u001b[38;5;124m%\u001b[39m\u001b[38;5;124mY\u001b[39m\u001b[38;5;124m'\u001b[39m)\n\u001b[0;32m      5\u001b[0m df[\u001b[38;5;124m'\u001b[39m\u001b[38;5;124mDate_Execution\u001b[39m\u001b[38;5;124m'\u001b[39m] \u001b[38;5;241m=\u001b[39m pd\u001b[38;5;241m.\u001b[39mto_datetime(df[\u001b[38;5;124m'\u001b[39m\u001b[38;5;124mDate_Execution\u001b[39m\u001b[38;5;124m'\u001b[39m])\n",
      "\u001b[1;31mTypeError\u001b[0m: NDFrame.astype() got an unexpected keyword argument 'regex'"
     ]
    }
   ],
   "source": [
    "df['Nombre de coupons'] = df['Nombre de coupons'].str.replace(' ','').astype('int')\n",
    "df['UNITAIRE'] = df['UNITAIRE'].str.replace(' ','').astype('int')\n",
    "df['Montant en MAD'] = df['Montant en MAD'].str.replace('.', '').str.replace(' ', '').str.replace(',', '.').astype('float', regex=False)\n",
    "df['Date de paiement'] = pd.to_datetime(df['Date de paiement'], format='%d/%m/%Y')\n",
    "df['Date_Execution'] = pd.to_datetime(df['Date_Execution'])\n",
    "df['Date_Rejet'] = pd.to_datetime(df['Date_Rejet'])"
   ]
  },
  {
   "cell_type": "code",
   "execution_count": null,
   "id": "8d259589",
   "metadata": {},
   "outputs": [],
   "source": []
  },
  {
   "cell_type": "code",
   "execution_count": null,
   "id": "7fbab781",
   "metadata": {},
   "outputs": [],
   "source": []
  },
  {
   "cell_type": "code",
   "execution_count": 83,
   "id": "f20b9a9c",
   "metadata": {},
   "outputs": [],
   "source": [
    "df.to_csv('OCR2CSV.csv',index=False, encoding='latin-1')"
   ]
  },
  {
   "cell_type": "code",
   "execution_count": 84,
   "id": "65fcfdb5",
   "metadata": {},
   "outputs": [
    {
     "name": "stderr",
     "output_type": "stream",
     "text": [
      "C:\\Users\\warda\\.spss\\lib\\site-packages\\pandas\\util\\_decorators.py:211: FutureWarning: the 'encoding' keyword is deprecated and will be removed in a future version. Please take steps to stop the use of 'encoding'\n",
      "  return func(*args, **kwargs)\n"
     ]
    }
   ],
   "source": [
    "df.to_excel('OCR2CSV.xlsx',index=False, encoding='latin-1')"
   ]
  },
  {
   "cell_type": "code",
   "execution_count": null,
   "id": "98b7bb89",
   "metadata": {},
   "outputs": [],
   "source": []
  },
  {
   "cell_type": "code",
   "execution_count": null,
   "id": "154c18f8",
   "metadata": {},
   "outputs": [],
   "source": []
  },
  {
   "cell_type": "code",
   "execution_count": null,
   "id": "aa90fd4c",
   "metadata": {},
   "outputs": [],
   "source": []
  },
  {
   "cell_type": "code",
   "execution_count": null,
   "id": "fb015baf",
   "metadata": {},
   "outputs": [],
   "source": []
  }
 ],
 "metadata": {
  "kernelspec": {
   "display_name": "Python 3 (ipykernel)",
   "language": "python",
   "name": "python3"
  },
  "language_info": {
   "codemirror_mode": {
    "name": "ipython",
    "version": 3
   },
   "file_extension": ".py",
   "mimetype": "text/x-python",
   "name": "python",
   "nbconvert_exporter": "python",
   "pygments_lexer": "ipython3",
   "version": "3.10.9"
  }
 },
 "nbformat": 4,
 "nbformat_minor": 5
}
